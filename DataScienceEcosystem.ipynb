{
 "cells": [
  {
   "cell_type": "markdown",
   "id": "e1e0385c",
   "metadata": {},
   "source": [
    "# Data Science Tools and Ecosystems"
   ]
  },
  {
   "cell_type": "markdown",
   "id": "7da98f19",
   "metadata": {},
   "source": [
    "In this notebook, Data Science Tools and Ecosystem are summarized."
   ]
  },
  {
   "cell_type": "markdown",
   "id": "4ef05e5e",
   "metadata": {},
   "source": [
    "**Objectives:**\n",
    "  - List popular languages for Data Science\n",
    "  - List the commonly used libraries by Data Scientists\n",
    "  - List the Data Scientists tools, as a table"
   ]
  },
  {
   "cell_type": "markdown",
   "id": "e89e3fa6",
   "metadata": {},
   "source": [
    "Some of the popular languages that Data Scientists use are:\n",
    "1. Python\n",
    "2. R\n",
    "3. RStudio\n",
    "4. SQL"
   ]
  },
  {
   "cell_type": "markdown",
   "id": "7bfb5432",
   "metadata": {},
   "source": [
    "Some of the commonly used libraries by Data Scientists include:\n",
    "1. Tensorflow\n",
    "2. Py Torch\n",
    "3. Keras\n",
    "4. caret\n",
    "5. ggplot\n",
    "6. dplyr\n",
    "7. Pandas\n",
    "8. Numpy\n",
    "9. Scikit-learn"
   ]
  },
  {
   "cell_type": "markdown",
   "id": "5daf1c83",
   "metadata": {},
   "source": [
    "---\n",
    "|Data Science Tools|\n",
    "--\n",
    "|IDLE|\n",
    "|PyCharm|\n",
    "|Visual Studio|\n",
    "|RStudio|\n",
    "|Jupyter Notebook|\n",
    "|PostgreSQL|\n",
    "|DBeaver|"
   ]
  },
  {
   "cell_type": "markdown",
   "id": "527228ed",
   "metadata": {},
   "source": [
    "### Below are a few examples of evaluating arithmetic expressions in Python"
   ]
  },
  {
   "cell_type": "code",
   "execution_count": 3,
   "id": "b0afda0b",
   "metadata": {},
   "outputs": [
    {
     "data": {
      "text/plain": [
       "17"
      ]
     },
     "execution_count": 3,
     "metadata": {},
     "output_type": "execute_result"
    }
   ],
   "source": [
    "# This a simple arithmetic expression to multiply then add integers.\n",
    "(3*4)+5"
   ]
  },
  {
   "cell_type": "code",
   "execution_count": 33,
   "id": "5fa3bed9",
   "metadata": {},
   "outputs": [
    {
     "data": {
      "text/plain": [
       "'3 hours, 20 minutes'"
      ]
     },
     "execution_count": 33,
     "metadata": {},
     "output_type": "execute_result"
    }
   ],
   "source": [
    "# This will convert 200 minutes to hours by diving by 60.\n",
    "import math\n",
    "minutes = 200\n",
    "hours = math.floor(minutes / 60)\n",
    "minutes = minutes - hours * 60\n",
    "f\"{hours} hours, {minutes} minutes\""
   ]
  },
  {
   "cell_type": "markdown",
   "id": "486e8f5c",
   "metadata": {},
   "source": [
    "## Author\n",
    "Pavel Danilov"
   ]
  }
 ],
 "metadata": {
  "kernelspec": {
   "display_name": "Python 3 (ipykernel)",
   "language": "python",
   "name": "python3"
  },
  "language_info": {
   "codemirror_mode": {
    "name": "ipython",
    "version": 3
   },
   "file_extension": ".py",
   "mimetype": "text/x-python",
   "name": "python",
   "nbconvert_exporter": "python",
   "pygments_lexer": "ipython3",
   "version": "3.9.7"
  }
 },
 "nbformat": 4,
 "nbformat_minor": 5
}
